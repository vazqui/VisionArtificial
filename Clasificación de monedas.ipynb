{
 "cells": [
  {
   "cell_type": "code",
   "execution_count": 34,
   "id": "ce313c19",
   "metadata": {},
   "outputs": [],
   "source": [
    "import numpy as np\n",
    "import cv2\n",
    "import os\n",
    "import random\n",
    "from skimage.io import imread\n",
    "from skimage.transform import resize\n",
    "from skimage import feature\n",
    "from skimage import exposure\n",
    "import matplotlib.pyplot as plt\n",
    "from skimage.feature import hog\n",
    "from sklearn.svm import SVC\n",
    "from sklearn.linear_model import LogisticRegression\n",
    "from sklearn.ensemble import RandomForestClassifier\n",
    "from sklearn.datasets import make_classification\n",
    "from sklearn.cluster import KMeans\n",
    "from sklearn.neural_network import MLPClassifier\n",
    "import category_encoders as ce"
   ]
  },
  {
   "cell_type": "markdown",
   "id": "77b28862",
   "metadata": {},
   "source": [
    "### Variables y funciones programadas"
   ]
  },
  {
   "cell_type": "code",
   "execution_count": 2,
   "id": "b36b3e82",
   "metadata": {},
   "outputs": [
    {
     "name": "stdout",
     "output_type": "stream",
     "text": [
      "C:\\Users\\ivana\\Desktop\\Universidad\\4º curso\\1º semestre\\Vision artificial\\Practicas\\Practica final\\VisionArtificial\n"
     ]
    }
   ],
   "source": [
    "#Parametros de raiz\n",
    "raiz=os.getcwd()\n",
    "print(raiz)"
   ]
  },
  {
   "cell_type": "code",
   "execution_count": 3,
   "id": "b10661fa",
   "metadata": {},
   "outputs": [],
   "source": [
    "#Tamaño de ventana para homogeneizar las imagenes\n",
    "tamanoVentana = 100"
   ]
  },
  {
   "cell_type": "code",
   "execution_count": 4,
   "id": "9856c73f",
   "metadata": {},
   "outputs": [],
   "source": [
    "def tratarImagenes(directorio, X_Train, Y_Train, X_Test, Y_Test):\n",
    "    os.chdir(raiz+directorio)\n",
    "    aux = os.listdir()\n",
    "    cont = len(aux) * 0.8\n",
    "    k = 0\n",
    "    for j in aux:\n",
    "        img = cv2.imread(j)\n",
    "\n",
    "        # Convertimos a escala de grises\n",
    "        img = cv2.cvtColor(img, cv2.COLOR_BGR2GRAY)\n",
    "\n",
    "        #Aplicamos el filtro de la mediana que es el mejor para eliminar el ruido sal y pimienta\n",
    "        img = cv2.medianBlur(img,5)\n",
    "\n",
    "        imagen_ampliada = cv2.resize(img, (tamanoVentana,tamanoVentana))\n",
    "\n",
    "        if(k<cont):\n",
    "            X_Train.append(imagen_ampliada)\n",
    "            Y_Train.append(j)  \n",
    "        else:\n",
    "            X_Test.append(imagen_ampliada)\n",
    "            Y_Test.append(j)  \n",
    "        k=k+1"
   ]
  },
  {
   "cell_type": "code",
   "execution_count": 5,
   "id": "5114c663",
   "metadata": {},
   "outputs": [],
   "source": [
    "#Parametros para el HOG\n",
    "pixels_per_cell=(8,8)\n",
    "cells_per_block=(2,2)\n",
    "orientations = 9"
   ]
  },
  {
   "cell_type": "code",
   "execution_count": 20,
   "id": "8c4cd28c",
   "metadata": {},
   "outputs": [],
   "source": [
    "def HOG(images, pixels_per_cell, cells_per_block):\n",
    "    lista_hog=[]\n",
    "    lista_img_hog=[]\n",
    "    for i,img in enumerate(images):\n",
    "        carac,img_hog=hog(img, orientations=9, pixels_per_cell=pixels_per_cell, cells_per_block=cells_per_block,visualize=True, multichannel=False)\n",
    "        lista_hog.append(carac)\n",
    "        lista_img_hog.append(img_hog)\n",
    "    return np.copy(lista_hog),lista_img_hog"
   ]
  },
  {
   "cell_type": "markdown",
   "id": "33976875",
   "metadata": {},
   "source": [
    "# Fase 1: Entrenamiento de un clasificador de monedas"
   ]
  },
  {
   "cell_type": "markdown",
   "id": "a3e06216",
   "metadata": {},
   "source": [
    "## Fase 1.1: Análisis del conjunto de datos"
   ]
  },
  {
   "cell_type": "code",
   "execution_count": 6,
   "id": "cf28a356",
   "metadata": {},
   "outputs": [
    {
     "name": "stdout",
     "output_type": "stream",
     "text": [
      "Tamaño de train\n",
      "Tamaño de test\n"
     ]
    },
    {
     "data": {
      "text/plain": [
       "256"
      ]
     },
     "execution_count": 6,
     "metadata": {},
     "output_type": "execute_result"
    }
   ],
   "source": [
    "#Cargamos la imagen y la procesamos para eliminar el ruido\n",
    "X_Train = []\n",
    "Y_Train = []\n",
    "X_Test = []\n",
    "Y_Test = []\n",
    "\n",
    "tratarImagenes('\\\\train\\\\1c',X_Train, Y_Train, X_Test, Y_Test)\n",
    "tratarImagenes('\\\\train\\\\1e',X_Train, Y_Train, X_Test, Y_Test)\n",
    "tratarImagenes('\\\\train\\\\2c',X_Train, Y_Train, X_Test, Y_Test)\n",
    "tratarImagenes('\\\\train\\\\2e',X_Train, Y_Train, X_Test, Y_Test)\n",
    "tratarImagenes('\\\\train\\\\5c',X_Train, Y_Train, X_Test, Y_Test)\n",
    "tratarImagenes('\\\\train\\\\10c',X_Train, Y_Train, X_Test, Y_Test)\n",
    "tratarImagenes('\\\\train\\\\20c',X_Train, Y_Train, X_Test, Y_Test)\n",
    "tratarImagenes('\\\\train\\\\50c',X_Train, Y_Train, X_Test, Y_Test)\n",
    "\n",
    "print(\"Tamaño de train\") \n",
    "len(X_Train)\n",
    "print(\"Tamaño de test\") \n",
    "len(X_Test)\n"
   ]
  },
  {
   "cell_type": "code",
   "execution_count": 7,
   "id": "f5c55903",
   "metadata": {},
   "outputs": [],
   "source": [
    "#comprobando si se ha aplicado bien el filtro y la redimension\n",
    "\n",
    "cv2.imshow(\"imagen\",X_Train[426])\n",
    "cv2.waitKey(0)\n",
    "cv2.destroyAllWindows()\n",
    "\n",
    "cv2.imshow(\"imagen2\",X_Test[200])\n",
    "cv2.waitKey(0)\n",
    "cv2.destroyAllWindows()"
   ]
  },
  {
   "cell_type": "markdown",
   "id": "b258cbed",
   "metadata": {},
   "source": [
    "## Fase 1.2: HOG"
   ]
  },
  {
   "cell_type": "code",
   "execution_count": 21,
   "id": "b6e6f475",
   "metadata": {},
   "outputs": [
    {
     "ename": "SyntaxError",
     "evalue": "EOL while scanning string literal (Temp/ipykernel_3456/2948163005.py, line 7)",
     "output_type": "error",
     "traceback": [
      "\u001b[1;36m  File \u001b[1;32m\"C:\\Users\\ivana\\AppData\\Local\\Temp/ipykernel_3456/2948163005.py\"\u001b[1;36m, line \u001b[1;32m7\u001b[0m\n\u001b[1;33m    \"\"\"\"\u001b[0m\n\u001b[1;37m        \n^\u001b[0m\n\u001b[1;31mSyntaxError\u001b[0m\u001b[1;31m:\u001b[0m EOL while scanning string literal\n"
     ]
    }
   ],
   "source": [
    "#HOG\n",
    "\"\"\"\"\n",
    "X_Train_Coin, img_Train_coin_hog = feature.hog(X_Train,orientations=orientations,pixels_per_cell=pixels_per_cell,cells_per_block=cells_per_block,transform_sqrt=True,block_norm=\"L1\",visualize=True)\n",
    "Y_Train_Coin = np.copy(Y_Train)\n",
    "\n",
    "X_Test_Coin, img_Test_Coin = feature.hog(X_Test,orientations=orientations,pixels_per_cell=pixels_per_cell,cells_per_block=cells_per_block,transform_sqrt=True,block_norm=\"L1\",visualize=True)\n",
    "\"\"\"\"\n"
   ]
  },
  {
   "cell_type": "code",
   "execution_count": 24,
   "id": "c239fcbf",
   "metadata": {},
   "outputs": [],
   "source": [
    "X_Train_Coin, img_Train_Coin_hog = HOG(X_Train, pixels_per_cell,cells_per_block)\n",
    "Y_Train_Coin = np.copy(Y_Train)\n",
    "\n",
    "X_Test, img_Test_Coin_hog = HOG(X_Test,pixels_per_cell,cells_per_block)"
   ]
  },
  {
   "cell_type": "code",
   "execution_count": 25,
   "id": "0bc87af3",
   "metadata": {},
   "outputs": [],
   "source": [
    "cv2.imshow(\"imagen\",X_Train_Coin[426])\n",
    "cv2.waitKey(0)\n",
    "cv2.destroyAllWindows()\n",
    "\n",
    "cv2.imshow(\"imagen2\",X_Test_Coin[200])\n",
    "cv2.waitKey(0)\n",
    "cv2.destroyAllWindows()"
   ]
  },
  {
   "cell_type": "markdown",
   "id": "038d4372",
   "metadata": {},
   "source": [
    "## Fase 1.3 Entrenamiento\n"
   ]
  },
  {
   "cell_type": "markdown",
   "id": "e1cdbe98",
   "metadata": {},
   "source": [
    "#### Regresion logistica"
   ]
  },
  {
   "cell_type": "code",
   "execution_count": 33,
   "id": "402fd4c5",
   "metadata": {},
   "outputs": [
    {
     "name": "stdout",
     "output_type": "stream",
     "text": [
      "0.9980787704130644\n"
     ]
    }
   ],
   "source": [
    "logistic_regression = LogisticRegression(max_iter=1000)\n",
    "logistic_regression.fit(X_Train_Coin,Y_Train_Coin)\n",
    "\n",
    "accRegLog = logistic_regression.score(X_Train_Coin,Y_Train_Coin)\n",
    "print(accRegLog)"
   ]
  },
  {
   "cell_type": "code",
   "execution_count": null,
   "id": "f1329a2b",
   "metadata": {},
   "outputs": [],
   "source": []
  },
  {
   "cell_type": "code",
   "execution_count": null,
   "id": "cc9244e0",
   "metadata": {},
   "outputs": [],
   "source": []
  },
  {
   "cell_type": "markdown",
   "id": "7a4c4175",
   "metadata": {},
   "source": [
    "#### SVM"
   ]
  },
  {
   "cell_type": "code",
   "execution_count": 26,
   "id": "dfb000f9",
   "metadata": {},
   "outputs": [
    {
     "data": {
      "text/plain": [
       "SVC(probability=True)"
      ]
     },
     "execution_count": 26,
     "metadata": {},
     "output_type": "execute_result"
    }
   ],
   "source": [
    "SVM_Coin = SVC(probability = True)\n",
    "SVM_Coin.fit(X_Train_Coin,Y_Train_Coin)"
   ]
  },
  {
   "cell_type": "code",
   "execution_count": 28,
   "id": "03e93687",
   "metadata": {},
   "outputs": [
    {
     "name": "stdout",
     "output_type": "stream",
     "text": [
      "0.9980787704130644\n"
     ]
    }
   ],
   "source": [
    "acc = SVM_Coin.score(X_Train_Coin,Y_Train_Coin)\n",
    "print(acc)"
   ]
  },
  {
   "cell_type": "code",
   "execution_count": null,
   "id": "59f9cf83",
   "metadata": {},
   "outputs": [],
   "source": []
  },
  {
   "cell_type": "code",
   "execution_count": null,
   "id": "33aca4d2",
   "metadata": {},
   "outputs": [],
   "source": []
  },
  {
   "cell_type": "code",
   "execution_count": null,
   "id": "6535ebb0",
   "metadata": {},
   "outputs": [],
   "source": []
  },
  {
   "cell_type": "code",
   "execution_count": null,
   "id": "e5be1bc6",
   "metadata": {},
   "outputs": [],
   "source": []
  }
 ],
 "metadata": {
  "kernelspec": {
   "display_name": "Python [conda env:py38ml] *",
   "language": "python",
   "name": "conda-env-py38ml-py"
  },
  "language_info": {
   "codemirror_mode": {
    "name": "ipython",
    "version": 3
   },
   "file_extension": ".py",
   "mimetype": "text/x-python",
   "name": "python",
   "nbconvert_exporter": "python",
   "pygments_lexer": "ipython3",
   "version": "3.8.10"
  }
 },
 "nbformat": 4,
 "nbformat_minor": 5
}
