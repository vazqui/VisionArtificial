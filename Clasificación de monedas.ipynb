{
 "cells": [
  {
   "cell_type": "code",
   "execution_count": 1,
   "id": "ce313c19",
   "metadata": {},
   "outputs": [],
   "source": [
    "import numpy as np\n",
    "import cv2\n",
    "import os\n",
    "import random\n",
    "from skimage.io import imread\n",
    "from skimage.transform import resize\n",
    "from skimage import feature\n",
    "from skimage import exposure\n",
    "import matplotlib.pyplot as plt\n",
    "from skimage.feature import hog\n",
    "from sklearn.svm import SVC\n",
    "from sklearn.linear_model import LogisticRegression\n",
    "from sklearn.ensemble import RandomForestClassifier\n",
    "from sklearn.datasets import make_classification\n",
    "from sklearn.cluster import KMeans\n",
    "from sklearn.neural_network import MLPClassifier\n",
    "import category_encoders as ce"
   ]
  },
  {
   "cell_type": "markdown",
   "id": "77b28862",
   "metadata": {},
   "source": [
    "### Variables y funciones programadas"
   ]
  },
  {
   "cell_type": "code",
   "execution_count": 2,
   "id": "b36b3e82",
   "metadata": {},
   "outputs": [
    {
     "name": "stdout",
     "output_type": "stream",
     "text": [
      "C:\\Users\\Ivan\\Desktop\\VisionArtificial\n"
     ]
    }
   ],
   "source": [
    "#Parametros de raiz\n",
    "raiz=os.getcwd()\n",
    "print(raiz)"
   ]
  },
  {
   "cell_type": "code",
   "execution_count": 3,
   "id": "b10661fa",
   "metadata": {},
   "outputs": [],
   "source": [
    "#Tamaño de ventana para homogeneizar las imagenes\n",
    "tamanoVentana = 100"
   ]
  },
  {
   "cell_type": "code",
   "execution_count": 4,
   "id": "9856c73f",
   "metadata": {},
   "outputs": [],
   "source": [
    "def tratarImagenes(directorio, X_Train, Y_Train, X_Test, Y_Test):\n",
    "    os.chdir(raiz+directorio)\n",
    "    aux = os.listdir()\n",
    "    cont = len(aux) * 0.8\n",
    "    k = 0\n",
    "    for j in aux:\n",
    "        img = cv2.imread(j)\n",
    "\n",
    "        # Convertimos a escala de grises\n",
    "        img = cv2.cvtColor(img, cv2.COLOR_BGR2GRAY)\n",
    "\n",
    "        #Aplicamos el filtro de la mediana que es el mejor para eliminar el ruido sal y pimienta\n",
    "        img = cv2.medianBlur(img,5)\n",
    "        \n",
    "        #Aplicamos el filtro gaussiano para eliminar posibles ruidos restantes\n",
    "        img = cv2.GaussianBlur(img,(5,5),0)\n",
    "\n",
    "        #Redimensionamos las imagenes para tener en todas el mismo tamaño\n",
    "        imagen_ampliada = cv2.resize(img, (tamanoVentana,tamanoVentana))\n",
    "        \n",
    "        # Detectamos los bordes con Canny\n",
    "        canny = cv2.Canny(imagen_ampliada, 50, 150)\n",
    "        \n",
    " \n",
    "        # Buscamos los contornos\n",
    "        (contornos,_) = cv2.findContours(canny.copy(), cv2.RETR_EXTERNAL, cv2.CHAIN_APPROX_SIMPLE)\n",
    " \n",
    "        cv2.drawContours(imagen_ampliada,contornos,-1,(0,0,255), 2)\n",
    "        \n",
    "        if(k<cont):\n",
    "            X_Train.append(imagen_ampliada)\n",
    "            Y_Train.append(j)  \n",
    "        else:\n",
    "            X_Test.append(imagen_ampliada)\n",
    "            Y_Test.append(j)  \n",
    "        k=k+1"
   ]
  },
  {
   "cell_type": "code",
   "execution_count": 5,
   "id": "5114c663",
   "metadata": {},
   "outputs": [],
   "source": [
    "#Parametros para el HOG\n",
    "pixels_per_cell=(8,8)\n",
    "cells_per_block=(2,2)\n",
    "orientations = 9"
   ]
  },
  {
   "cell_type": "code",
   "execution_count": 6,
   "id": "8c4cd28c",
   "metadata": {},
   "outputs": [],
   "source": [
    "def HOG(images, pixels_per_cell, cells_per_block):\n",
    "    lista_hog=[]\n",
    "    lista_img_hog=[]\n",
    "    for i,img in enumerate(images):\n",
    "        carac,img_hog=hog(img, orientations=9, pixels_per_cell=pixels_per_cell, cells_per_block=cells_per_block,visualize=True, multichannel=False)\n",
    "        lista_hog.append(carac)\n",
    "        lista_img_hog.append(img_hog)\n",
    "    return np.copy(lista_hog),lista_img_hog"
   ]
  },
  {
   "cell_type": "markdown",
   "id": "33976875",
   "metadata": {},
   "source": [
    "# Fase 1: Entrenamiento de un clasificador de monedas"
   ]
  },
  {
   "cell_type": "markdown",
   "id": "a3e06216",
   "metadata": {},
   "source": [
    "## Fase 1.1: Análisis del conjunto de datos"
   ]
  },
  {
   "cell_type": "code",
   "execution_count": 7,
   "id": "cf28a356",
   "metadata": {},
   "outputs": [],
   "source": [
    "#Cargamos la imagen y la procesamos para eliminar el ruido\n",
    "X_Train = []\n",
    "Y_Train = []\n",
    "X_Test = []\n",
    "Y_Test = []\n",
    "\n",
    "tratarImagenes('\\\\train\\\\1c',X_Train, Y_Train, X_Test, Y_Test)\n",
    "tratarImagenes('\\\\train\\\\1e',X_Train, Y_Train, X_Test, Y_Test)\n",
    "tratarImagenes('\\\\train\\\\2c',X_Train, Y_Train, X_Test, Y_Test)\n",
    "tratarImagenes('\\\\train\\\\2e',X_Train, Y_Train, X_Test, Y_Test)\n",
    "tratarImagenes('\\\\train\\\\5c',X_Train, Y_Train, X_Test, Y_Test)\n",
    "tratarImagenes('\\\\train\\\\10c',X_Train, Y_Train, X_Test, Y_Test)\n",
    "tratarImagenes('\\\\train\\\\20c',X_Train, Y_Train, X_Test, Y_Test)\n",
    "tratarImagenes('\\\\train\\\\50c',X_Train, Y_Train, X_Test, Y_Test)\n"
   ]
  },
  {
   "cell_type": "code",
   "execution_count": 8,
   "id": "29e9b791",
   "metadata": {},
   "outputs": [
    {
     "name": "stdout",
     "output_type": "stream",
     "text": [
      "Tamaño de train\n"
     ]
    },
    {
     "data": {
      "text/plain": [
       "1041"
      ]
     },
     "execution_count": 8,
     "metadata": {},
     "output_type": "execute_result"
    }
   ],
   "source": [
    "print(\"Tamaño de train\") \n",
    "len(X_Train)"
   ]
  },
  {
   "cell_type": "code",
   "execution_count": 9,
   "id": "183ee61a",
   "metadata": {},
   "outputs": [
    {
     "name": "stdout",
     "output_type": "stream",
     "text": [
      "Tamaño de test\n"
     ]
    },
    {
     "data": {
      "text/plain": [
       "256"
      ]
     },
     "execution_count": 9,
     "metadata": {},
     "output_type": "execute_result"
    }
   ],
   "source": [
    "print(\"Tamaño de test\") \n",
    "len(X_Test)"
   ]
  },
  {
   "cell_type": "code",
   "execution_count": 12,
   "id": "f5c55903",
   "metadata": {},
   "outputs": [],
   "source": [
    "#comprobando si se ha aplicado bien el filtro y la redimension\n",
    "\n",
    "cv2.imshow(\"imagen\",X_Train[1])\n",
    "cv2.waitKey(0)\n",
    "cv2.destroyAllWindows()\n",
    "\n",
    "cv2.imshow(\"imagen2\",X_Test[255])\n",
    "cv2.waitKey(0)\n",
    "cv2.destroyAllWindows()"
   ]
  },
  {
   "cell_type": "markdown",
   "id": "b258cbed",
   "metadata": {},
   "source": [
    "## Fase 1.2: HOG"
   ]
  },
  {
   "cell_type": "code",
   "execution_count": null,
   "id": "b6e6f475",
   "metadata": {},
   "outputs": [],
   "source": [
    "#HOG\n",
    "\"\"\"\"\n",
    "X_Train_Coin, img_Train_coin_hog = feature.hog(X_Train,orientations=orientations,pixels_per_cell=pixels_per_cell,cells_per_block=cells_per_block,transform_sqrt=True,block_norm=\"L1\",visualize=True)\n",
    "Y_Train_Coin = np.copy(Y_Train)\n",
    "\n",
    "X_Test_Coin, img_Test_Coin = feature.hog(X_Test,orientations=orientations,pixels_per_cell=pixels_per_cell,cells_per_block=cells_per_block,transform_sqrt=True,block_norm=\"L1\",visualize=True)\n",
    "\"\"\"\"\n"
   ]
  },
  {
   "cell_type": "code",
   "execution_count": null,
   "id": "c239fcbf",
   "metadata": {},
   "outputs": [],
   "source": [
    "X_Train_Coin, img_Train_Coin_hog = HOG(X_Train, pixels_per_cell,cells_per_block)\n",
    "Y_Train_Coin = np.copy(Y_Train)\n",
    "\n",
    "X_Test_Coin, img_Test_Coin_hog = HOG(X_Test,pixels_per_cell,cells_per_block)"
   ]
  },
  {
   "cell_type": "code",
   "execution_count": null,
   "id": "0bc87af3",
   "metadata": {},
   "outputs": [],
   "source": [
    "cv2.imshow(\"imagen\",X_Train_Coin[426])\n",
    "cv2.waitKey(0)\n",
    "cv2.destroyAllWindows()\n",
    "\n",
    "cv2.imshow(\"imagen2\",X_Test_Coin[200])\n",
    "cv2.waitKey(0)\n",
    "cv2.destroyAllWindows()"
   ]
  },
  {
   "cell_type": "markdown",
   "id": "038d4372",
   "metadata": {},
   "source": [
    "# Fase 1.3 Entrenamiento\n"
   ]
  },
  {
   "cell_type": "markdown",
   "id": "14498e59",
   "metadata": {},
   "source": [
    "### CLASIFICADOR REGRESIÓN LOGÍSTICA"
   ]
  },
  {
   "cell_type": "markdown",
   "id": "e1cdbe98",
   "metadata": {},
   "source": [
    "#### Clasificación monedas Train"
   ]
  },
  {
   "cell_type": "code",
   "execution_count": null,
   "id": "402fd4c5",
   "metadata": {},
   "outputs": [],
   "source": [
    "logistic_regression = LogisticRegression(max_iter=1000)\n",
    "logistic_regression.fit(X_Train_Coin,Y_Train_Coin)\n",
    "\n",
    "accRegLog = logistic_regression.score(X_Train_Coin,Y_Train_Coin)\n",
    "print(accRegLog)"
   ]
  },
  {
   "cell_type": "markdown",
   "id": "bb9a7b1b",
   "metadata": {},
   "source": [
    "#### Clasificación monedas Test"
   ]
  },
  {
   "cell_type": "code",
   "execution_count": null,
   "id": "cc9244e0",
   "metadata": {},
   "outputs": [],
   "source": [
    "Y_Test_Coin = np.asarray(Y_Test)\n",
    "accRegLogTest = logistic_regression.score(X_Test_Coin,Y_Test_Coin)\n",
    "print(accRegLogTest)"
   ]
  },
  {
   "cell_type": "markdown",
   "id": "7a4c4175",
   "metadata": {},
   "source": [
    "### CLASIFICADOR SVM"
   ]
  },
  {
   "cell_type": "markdown",
   "id": "fd8b97b6",
   "metadata": {},
   "source": [
    "#### Clasificacion monedas Train"
   ]
  },
  {
   "cell_type": "code",
   "execution_count": null,
   "id": "dfb000f9",
   "metadata": {},
   "outputs": [],
   "source": [
    "SVM_Coin = SVC(probability = True)\n",
    "SVM_Coin.fit(X_Train_Coin,Y_Train_Coin)"
   ]
  },
  {
   "cell_type": "code",
   "execution_count": null,
   "id": "03e93687",
   "metadata": {},
   "outputs": [],
   "source": [
    "acc = SVM_Coin.score(X_Train_Coin,Y_Train_Coin)\n",
    "print(acc)"
   ]
  },
  {
   "cell_type": "markdown",
   "id": "7dff0bd6",
   "metadata": {},
   "source": [
    "#### Clasificacion monedas Test"
   ]
  },
  {
   "cell_type": "code",
   "execution_count": null,
   "id": "33aca4d2",
   "metadata": {},
   "outputs": [],
   "source": [
    "Y_Test_Coin = np.asarray(Y_Test)\n",
    "acc = SVM_Coin.score(X_Test_Coin,Y_Test_Coin)\n",
    "print(acc)"
   ]
  },
  {
   "cell_type": "markdown",
   "id": "c489b7a0",
   "metadata": {},
   "source": [
    "### CLASIFICADOR RED NEURONAL "
   ]
  },
  {
   "cell_type": "markdown",
   "id": "bf7013dc",
   "metadata": {},
   "source": [
    "#### Clasificacion monedas Train"
   ]
  },
  {
   "cell_type": "code",
   "execution_count": null,
   "id": "2dbe10f2",
   "metadata": {},
   "outputs": [],
   "source": [
    "RN_Coin = MLPClassifier(alpha=1e-5, hidden_layer_sizes=(32,64,128), random_state=1)\n",
    "RN_Coin.fit(X_Train_Coin,Y_Train_Coin)\n",
    "            \n",
    "accRN = RN_Coin.score(X_Train_Coin,Y_Train_Coin)\n",
    "print(accRN)"
   ]
  },
  {
   "cell_type": "markdown",
   "id": "01dd4aa7",
   "metadata": {},
   "source": [
    "#### Clasificacion monedas Test"
   ]
  },
  {
   "cell_type": "code",
   "execution_count": null,
   "id": "8d2a9af8",
   "metadata": {},
   "outputs": [],
   "source": [
    "Y_Test_Coin = np.asarray(Y_Test)\n",
    "acc = RN_Coin.score(X_Test_Coin,Y_Test_Coin)\n",
    "print(acc)"
   ]
  },
  {
   "cell_type": "markdown",
   "id": "86440c92",
   "metadata": {},
   "source": [
    "### CLASIFICADOR K-MEANS"
   ]
  },
  {
   "cell_type": "markdown",
   "id": "24247c69",
   "metadata": {},
   "source": [
    "#### Clasificacion monedas Train"
   ]
  },
  {
   "cell_type": "code",
   "execution_count": null,
   "id": "d8f593de",
   "metadata": {},
   "outputs": [],
   "source": [
    "Kmean_Coin = KMeans(n_clusters=43,n_init = 50,max_iter = 4000)\n",
    "Kmean_Coin.fit(X_Train_Coin)\n",
    "\n",
    "accKmeans = Kmean_Coin.score(X_Train_Coin,Y_Train_Coin)\n",
    "print(accKmeans)"
   ]
  },
  {
   "cell_type": "markdown",
   "id": "0dba9512",
   "metadata": {},
   "source": [
    "#### Clasificacion monedas Test"
   ]
  },
  {
   "cell_type": "code",
   "execution_count": null,
   "id": "8ea70a5e",
   "metadata": {},
   "outputs": [],
   "source": [
    "Y_Test_Coin = np.asarray(Y_Test)\n",
    "acc = Kmean_Coin.score(X_Test_Coin,Y_Test_Coin)\n",
    "print(acc)"
   ]
  },
  {
   "cell_type": "markdown",
   "id": "00465f2d",
   "metadata": {},
   "source": [
    "## CLASIFICADOR RANDOM FOREST"
   ]
  },
  {
   "cell_type": "markdown",
   "id": "b9eabc6b",
   "metadata": {},
   "source": [
    "#### Clasificacion monedas Train"
   ]
  },
  {
   "cell_type": "code",
   "execution_count": null,
   "id": "59a8e3fd",
   "metadata": {},
   "outputs": [],
   "source": [
    "tree_Coin = RandomForestClassifier(max_depth=60, random_state=0, n_estimators = 100)\n",
    "tree_Coin.fit(X_Train_Coin,Y_Train_Coin)\n",
    "\n",
    "accRF = tree_Coin.score(X_Train_Coin,Y_Train_Coin)\n",
    "print(accRF)"
   ]
  },
  {
   "cell_type": "markdown",
   "id": "1e6338ab",
   "metadata": {},
   "source": [
    "#### Clasificacion monedas Test"
   ]
  },
  {
   "cell_type": "code",
   "execution_count": null,
   "id": "54bd1860",
   "metadata": {},
   "outputs": [],
   "source": [
    "Y_Test_Coin = np.asarray(Y_Test)\n",
    "accTree = tree_Coin.score(X_Test_Coin,Y_Test_Coin)\n",
    "print(accTree)\n",
    "print(tree_Coin.predict(X_Test_Coin[85].reshape(1,-1)))"
   ]
  }
 ],
 "metadata": {
  "kernelspec": {
   "display_name": "Python [conda env:py38ml] *",
   "language": "python",
   "name": "conda-env-py38ml-py"
  },
  "language_info": {
   "codemirror_mode": {
    "name": "ipython",
    "version": 3
   },
   "file_extension": ".py",
   "mimetype": "text/x-python",
   "name": "python",
   "nbconvert_exporter": "python",
   "pygments_lexer": "ipython3",
   "version": "3.8.10"
  }
 },
 "nbformat": 4,
 "nbformat_minor": 5
}
