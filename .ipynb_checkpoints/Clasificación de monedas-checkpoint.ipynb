{
 "cells": [
  {
   "cell_type": "code",
   "execution_count": 1,
   "id": "ce313c19",
   "metadata": {},
   "outputs": [],
   "source": [
    "import numpy as np\n",
    "import cv2\n",
    "import os\n",
    "import random\n",
    "from skimage.io import imread\n",
    "from skimage.transform import resize\n",
    "from skimage import feature\n",
    "from skimage import exposure\n",
    "import matplotlib.pyplot as plt\n",
    "from skimage.feature import hog\n",
    "from sklearn import svm\n",
    "from sklearn.svm import SVC\n",
    "from sklearn.linear_model import LogisticRegression\n",
    "from sklearn.neural_network import MLPClassifier\n",
    "import category_encoders as ce\n",
    "from sklearn import naive_bayes\n",
    "import pandas as pd\n",
    "from sklearn import metrics \n",
    "from sklearn.naive_bayes import GaussianNB\n",
    "from sklearn.naive_bayes import MultinomialNB\n",
    "from sklearn.model_selection import GridSearchCV\n",
    "from sklearn.tree import DecisionTreeClassifier\n",
    "from sklearn.neural_network import MLPClassifier\n",
    "from sklearn.base import clone\n",
    "import matplotlib.pyplot as plt"
   ]
  },
  {
   "cell_type": "markdown",
   "id": "77b28862",
   "metadata": {},
   "source": [
    "### Variables y funciones programadas"
   ]
  },
  {
   "cell_type": "code",
   "execution_count": 2,
   "id": "b36b3e82",
   "metadata": {},
   "outputs": [
    {
     "name": "stdout",
     "output_type": "stream",
     "text": [
      "C:\\Users\\ivana\\Desktop\\Universidad\\4º curso\\1º semestre\\Vision artificial\\Practicas\\Practica final\\VisionArtificial\n"
     ]
    }
   ],
   "source": [
    "#Parametros de raiz\n",
    "raiz=os.getcwd()\n",
    "print(raiz)"
   ]
  },
  {
   "cell_type": "code",
   "execution_count": 26,
   "id": "b10661fa",
   "metadata": {},
   "outputs": [],
   "source": [
    "#Tamaño de ventana para homogeneizar las imagenes\n",
    "tamanoVentana = 200"
   ]
  },
  {
   "cell_type": "code",
   "execution_count": 4,
   "id": "9856c73f",
   "metadata": {},
   "outputs": [],
   "source": [
    "def tratarImagenes(directorio, X_Train, Y_Train, X_Test, Y_Test,num):\n",
    "    os.chdir(raiz+directorio)\n",
    "    aux = os.listdir()\n",
    "    cont = len(aux) * 0.8\n",
    "    k = 0\n",
    "    for j in aux:\n",
    "        img = cv2.imread(j)\n",
    "\n",
    "        # Convertimos a escala de grises\n",
    "        img = cv2.cvtColor(img, cv2.COLOR_BGR2GRAY)\n",
    "\n",
    "        #Aplicamos el filtro de la mediana que es el mejor para eliminar el ruido sal y pimienta\n",
    "        img = cv2.medianBlur(img,5)\n",
    "        \n",
    "        #Aplicamos el filtro gaussiano para eliminar posibles ruidos restantes\n",
    "        img = cv2.GaussianBlur(img,(5,5),0)\n",
    "\n",
    "        #Redimensionamos las imagenes para tener en todas el mismo tamaño\n",
    "        imagen_ampliada = cv2.resize(img, (tamanoVentana,tamanoVentana))\n",
    "        \n",
    "        # Detectamos los bordes con Canny\n",
    "        canny = cv2.Canny(imagen_ampliada, 50, 150)\n",
    "        \n",
    " \n",
    "        # Buscamos los contornos\n",
    "        (contornos,_) = cv2.findContours(canny.copy(), cv2.RETR_EXTERNAL, cv2.CHAIN_APPROX_SIMPLE)\n",
    " \n",
    "        cv2.drawContours(imagen_ampliada,contornos,-1,(0,0,255), 2)\n",
    "        \n",
    "        if(k<cont):\n",
    "            X_Train.append(imagen_ampliada)\n",
    "            Y_Train.append(num)  \n",
    "        else:\n",
    "            X_Test.append(imagen_ampliada)\n",
    "            Y_Test.append(num)  \n",
    "        k=k+1"
   ]
  },
  {
   "cell_type": "code",
   "execution_count": 5,
   "id": "5114c663",
   "metadata": {},
   "outputs": [],
   "source": [
    "#Parametros para el HOG\n",
    "pixels_per_cell=(8,8)\n",
    "cells_per_block=(2,2)\n",
    "orientations = 9"
   ]
  },
  {
   "cell_type": "code",
   "execution_count": 6,
   "id": "8c4cd28c",
   "metadata": {},
   "outputs": [],
   "source": [
    "def HOG(images, pixels_per_cell, cells_per_block):\n",
    "    lista_hog=[]\n",
    "    lista_img_hog=[]\n",
    "    for i,img in enumerate(images):\n",
    "        carac,img_hog=hog(img, orientations=9, pixels_per_cell=pixels_per_cell, cells_per_block=cells_per_block,visualize=True, multichannel=False)\n",
    "        lista_hog.append(carac)\n",
    "        lista_img_hog.append(img_hog)\n",
    "    return np.copy(lista_hog),lista_img_hog"
   ]
  },
  {
   "cell_type": "markdown",
   "id": "33976875",
   "metadata": {},
   "source": [
    "# Fase 1: Entrenamiento de un clasificador de monedas"
   ]
  },
  {
   "cell_type": "markdown",
   "id": "a3e06216",
   "metadata": {},
   "source": [
    "## Fase 1.1: Análisis del conjunto de datos"
   ]
  },
  {
   "cell_type": "code",
   "execution_count": 27,
   "id": "cf28a356",
   "metadata": {},
   "outputs": [],
   "source": [
    "#Cargamos la imagen y la procesamos para eliminar el ruido\n",
    "X_Train = []\n",
    "Y_Train = []\n",
    "X_Test = []\n",
    "Y_Test = []\n",
    "\n",
    "tratarImagenes('\\\\train\\\\1c',X_Train, Y_Train, X_Test, Y_Test,1)\n",
    "tratarImagenes('\\\\train\\\\1e',X_Train, Y_Train, X_Test, Y_Test,2)\n",
    "tratarImagenes('\\\\train\\\\2c',X_Train, Y_Train, X_Test, Y_Test,4)\n",
    "tratarImagenes('\\\\train\\\\2e',X_Train, Y_Train, X_Test, Y_Test,5)\n",
    "tratarImagenes('\\\\train\\\\5c',X_Train, Y_Train, X_Test, Y_Test,7)\n",
    "tratarImagenes('\\\\train\\\\10c',X_Train, Y_Train, X_Test, Y_Test,0)\n",
    "tratarImagenes('\\\\train\\\\20c',X_Train, Y_Train, X_Test, Y_Test,3)\n",
    "tratarImagenes('\\\\train\\\\50c',X_Train, Y_Train, X_Test, Y_Test,6)\n"
   ]
  },
  {
   "cell_type": "code",
   "execution_count": null,
   "id": "29e9b791",
   "metadata": {},
   "outputs": [],
   "source": [
    "print(\"Tamaño de train\") \n",
    "len(X_Train)"
   ]
  },
  {
   "cell_type": "code",
   "execution_count": null,
   "id": "183ee61a",
   "metadata": {},
   "outputs": [],
   "source": [
    "print(\"Tamaño de test\") \n",
    "len(X_Test)"
   ]
  },
  {
   "cell_type": "code",
   "execution_count": null,
   "id": "f5c55903",
   "metadata": {},
   "outputs": [],
   "source": [
    "#comprobando si se ha aplicado bien el filtro y la redimension\n",
    "\n",
    "cv2.imshow(\"imagen\",X_Train[456])\n",
    "cv2.waitKey(0)\n",
    "cv2.destroyAllWindows()\n",
    "\n",
    "cv2.imshow(\"imagen2\",X_Test[100])\n",
    "cv2.waitKey(0)\n",
    "cv2.destroyAllWindows()"
   ]
  },
  {
   "cell_type": "markdown",
   "id": "b258cbed",
   "metadata": {},
   "source": [
    "## Fase 1.2: HOG"
   ]
  },
  {
   "cell_type": "code",
   "execution_count": 29,
   "id": "c239fcbf",
   "metadata": {},
   "outputs": [],
   "source": [
    "X_Train_Coin,_ = HOG(X_Train, pixels_per_cell,cells_per_block)\n",
    "Y_Train_Coin = np.copy(Y_Train)\n",
    "\n",
    "X_Test_Coin,_ = HOG(X_Test,pixels_per_cell,cells_per_block)\n",
    "Y_Test_Coin = np.copy(Y_Test)"
   ]
  },
  {
   "cell_type": "markdown",
   "id": "038d4372",
   "metadata": {},
   "source": [
    "# Fase 1.3 Entrenamiento\n"
   ]
  },
  {
   "cell_type": "code",
   "execution_count": 30,
   "id": "a6e79d9e",
   "metadata": {},
   "outputs": [
    {
     "name": "stdout",
     "output_type": "stream",
     "text": [
      "72.27\n"
     ]
    }
   ],
   "source": [
    "classifiers = [SVC(), LogisticRegression(random_state=0, max_iter=1000), GaussianNB(), DecisionTreeClassifier()]\n",
    "\n",
    "clf_names = ['SVM', 'Regr Logistica', 'NB Gaussiano', 'Decision Tree']\n",
    "\n",
    "score_list = []\n",
    "aux_params = []\n",
    "best_score = np.NINF\n",
    "\n",
    "parameters_dict = {'SVM':{'kernel':('linear','rbf'), 'C':[1,10],'gamma':[0.1,0.001]},\n",
    "                    'Regr Logistica':{'C':[0.01,1,10,1000] },\n",
    "                    'NB Gaussiano':{'var_smoothing': np.logspace(0, -9,num=10)},\n",
    "                    'Decision Tree':{'min_samples_split':[2,3,4], 'criterion':['gini','entropy']},\n",
    "                 }\n",
    "\n",
    "for i,(clf_aux,clf_name) in enumerate(zip(classifiers,clf_names)):\n",
    "        clf = clone(clf_aux)\n",
    "        clf = GridSearchCV(clf,parameters_dict[clf_name], cv=2, n_jobs=-1)\n",
    "        clf.fit(X_Train_Coin,Y_Train_Coin)\n",
    "        \n",
    "        score=round(clf.score(X_Test_Coin,Y_Test_Coin)*100,2)\n",
    "        score_list.append(score)\n",
    "        aux_params.append(clf.best_params_)\n",
    "        if score >= best_score:\n",
    "            best_score = score\n",
    "print(best_score)"
   ]
  },
  {
   "cell_type": "markdown",
   "id": "e40e6cdc",
   "metadata": {},
   "source": [
    "### Mejores parámetros para cada clasificador"
   ]
  },
  {
   "cell_type": "markdown",
   "id": "e4b10beb",
   "metadata": {},
   "source": [
    "### SVM"
   ]
  },
  {
   "cell_type": "code",
   "execution_count": 31,
   "id": "4b06474f",
   "metadata": {},
   "outputs": [
    {
     "name": "stdout",
     "output_type": "stream",
     "text": [
      "Mejores parámetros para SVM\n",
      "{'C': 10, 'gamma': 0.001, 'kernel': 'rbf'}\n",
      "Porcentaje de train: \n",
      "1.0\n",
      "Porcentaje de test: \n",
      "0.72265625\n"
     ]
    }
   ],
   "source": [
    "print(\"Mejores parámetros para SVM\") \n",
    "print(aux_params[0])\n",
    "\n",
    "svc = svm.SVC(kernel='rbf',C=10,gamma=0.001,max_iter=1000)\n",
    "svc.fit(X_Train_Coin,Y_Train_Coin)\n",
    "acc = svc.score(X_Train_Coin,Y_Train_Coin)\n",
    "print(\"Porcentaje de train: \")\n",
    "print(acc)\n",
    "\n",
    "Y_Test_Coin = np.asarray(Y_Test)\n",
    "acc = svc.score(X_Test_Coin,Y_Test_Coin)\n",
    "print(\"Porcentaje de test: \")\n",
    "print(acc)"
   ]
  },
  {
   "cell_type": "markdown",
   "id": "672d107f",
   "metadata": {},
   "source": [
    "### Regresion logística"
   ]
  },
  {
   "cell_type": "code",
   "execution_count": 32,
   "id": "c0c848d5",
   "metadata": {},
   "outputs": [
    {
     "name": "stdout",
     "output_type": "stream",
     "text": [
      "Mejores parámetros para regresion logística\n",
      "{'C': 10}\n",
      "Porcentaje de train: \n",
      "1.0\n",
      "Porcentaje de test: \n",
      "0.6953125\n"
     ]
    }
   ],
   "source": [
    "print(\"Mejores parámetros para regresion logística\") \n",
    "print(aux_params[1])\n",
    "\n",
    "logistic_regression = LogisticRegression(C=10,max_iter=1000)\n",
    "logistic_regression.fit(X_Train_Coin,Y_Train_Coin)\n",
    "\n",
    "accRegLog = logistic_regression.score(X_Train_Coin,Y_Train_Coin)\n",
    "print(\"Porcentaje de train: \")\n",
    "print(accRegLog)\n",
    "\n",
    "\n",
    "Y_Test_Coin = np.asarray(Y_Test)\n",
    "accRegLogTest = logistic_regression.score(X_Test_Coin,Y_Test_Coin)\n",
    "print(\"Porcentaje de test: \")\n",
    "print(accRegLogTest)\n"
   ]
  },
  {
   "cell_type": "markdown",
   "id": "08449b5e",
   "metadata": {},
   "source": [
    "### NB Gaussiano"
   ]
  },
  {
   "cell_type": "code",
   "execution_count": 33,
   "id": "f678365c",
   "metadata": {},
   "outputs": [
    {
     "name": "stdout",
     "output_type": "stream",
     "text": [
      "Mejores parámetros para NB Gaussiano\n",
      "{'var_smoothing': 0.1}\n",
      "Porcentaje de train: \n",
      "0.7857829010566763\n",
      "Porcentaje de test: \n",
      "0.57421875\n"
     ]
    }
   ],
   "source": [
    "print(\"Mejores parámetros para NB Gaussiano\") \n",
    "print(aux_params[2])\n",
    "\n",
    "nb = naive_bayes.GaussianNB(var_smoothing = 0.1)\n",
    "nb.fit(X_Train_Coin,Y_Train_Coin)\n",
    "nbscore = nb.score(X_Train_Coin,Y_Train_Coin)\n",
    "print(\"Porcentaje de train: \")\n",
    "print(nbscore)\n",
    "\n",
    "Y_Test_Coin = np.asarray(Y_Test)\n",
    "nbscore_test = nb.score(X_Test_Coin,Y_Test_Coin)\n",
    "print(\"Porcentaje de test: \")\n",
    "print(nbscore_test)"
   ]
  },
  {
   "cell_type": "markdown",
   "id": "f09aaee3",
   "metadata": {},
   "source": [
    "### Decision tree"
   ]
  },
  {
   "cell_type": "code",
   "execution_count": 34,
   "id": "06248249",
   "metadata": {},
   "outputs": [
    {
     "name": "stdout",
     "output_type": "stream",
     "text": [
      "Mejores parámetros para Decision tree\n",
      "{'criterion': 'gini', 'min_samples_split': 2}\n",
      "Porcentaje de train: \n",
      "1.0\n",
      "Porcentaje de test: \n",
      "0.6953125\n"
     ]
    }
   ],
   "source": [
    "print(\"Mejores parámetros para Decision tree\") \n",
    "print(aux_params[3])\n",
    "\n",
    "decision_tree = DecisionTreeClassifier(criterion='gini',min_samples_split=2)\n",
    "decision_tree.fit(X_Train_Coin,Y_Train_Coin)\n",
    "accDecTree = decision_tree.score(X_Train_Coin,Y_Train_Coin)\n",
    "print(\"Porcentaje de train: \")\n",
    "print(accDecTree)\n",
    "\n",
    "Y_Test_Coin = np.asarray(Y_Test)\n",
    "decision_tree_test = logistic_regression.score(X_Test_Coin,Y_Test_Coin)\n",
    "print(\"Porcentaje de test: \")\n",
    "print(decision_tree_test)\n"
   ]
  },
  {
   "cell_type": "markdown",
   "id": "4671ee1d",
   "metadata": {},
   "source": [
    "# Código de generación de csv\n"
   ]
  },
  {
   "cell_type": "code",
   "execution_count": 16,
   "id": "699f39d2",
   "metadata": {},
   "outputs": [],
   "source": [
    "def tratarImagenes2(directorio, X_Train,img_labels):\n",
    "    os.chdir(raiz+directorio)\n",
    "    aux = os.listdir()\n",
    "    for j in aux:\n",
    "        img = cv2.imread(j)\n",
    "\n",
    "        # Convertimos a escala de grises\n",
    "        img = cv2.cvtColor(img, cv2.COLOR_BGR2GRAY)\n",
    "\n",
    "        #Aplicamos el filtro de la mediana que es el mejor para eliminar el ruido sal y pimienta\n",
    "        img = cv2.medianBlur(img,5)\n",
    "        \n",
    "        #Aplicamos el filtro gaussiano para eliminar posibles ruidos restantes\n",
    "        img = cv2.GaussianBlur(img,(5,5),0)\n",
    "\n",
    "        #Redimensionamos las imagenes para tener en todas el mismo tamaño\n",
    "        imagen_ampliada = cv2.resize(img, (tamanoVentana,tamanoVentana))\n",
    "        \n",
    "        X_Train.append(imagen_ampliada)\n",
    "        img_labels.append(j)\n",
    "        \n",
    "\n",
    "\n"
   ]
  },
  {
   "cell_type": "code",
   "execution_count": 18,
   "id": "5b4ac60b",
   "metadata": {},
   "outputs": [],
   "source": [
    "X_public_test = []\n",
    "img_test_labels = []\n",
    "\n",
    "\n",
    "tratarImagenes2('\\\\public_test',X_public_test, img_test_labels)\n",
    "\n",
    "X_public_test_Coin,_ = HOG(X_public_test, pixels_per_cell,cells_per_block)\n",
    "\n"
   ]
  },
  {
   "cell_type": "code",
   "execution_count": 20,
   "id": "48c76e9f",
   "metadata": {},
   "outputs": [
    {
     "name": "stdout",
     "output_type": "stream",
     "text": [
      "[0 6 7 2 2 0 3 2 7 0 2 0 0 0 6 3 0 2 0 0 0 7 3 0 6 2 3 2 0 6 0 0 0 3 7 3 7\n",
      " 0 3 2 0 0 2 3 2 2 6 0 0 0 0 0 3 6 0 2 0 0 5 7 0 7 0 0 0 0 0 0 0 0 6 3 0 0\n",
      " 2 4 1 0 7 7 0 0 3 0 7 6 3 0 2 7 0 3 0 6 3 3 3 0 7 7 6 3 3 2 2 7 0 0 0 3 0\n",
      " 6 0 3 0 6 7 3 3 5 3 0 0 0 7 7 0 6 0 2 2 6 0 0 6 0 0 0 0 0 6 0 0 0 0 3 6 0\n",
      " 1 0 3 7 2 3 0 1 3 7 3 0 0 7 0 0 3 6 2 6 0 0 0 0 2 0 2 7 7 6 3 0 3 7 0 2 3\n",
      " 3 0 3 0 7 0 0 0 0 3 0 1 0 7 6 0 0 0 7 0 0 0 1 0 0 6 0 0 3 0 7 2 7 7 7 0 0\n",
      " 0 2 0 0 0 0 5 3 1 0 2 0 2 0 3 2 0 0 0 0 6 3 0 0 0 7 0 6 3 0 0 7 6 2 0 3 6\n",
      " 2 6 0 2 0 0 0 0 0 7 0 0 6 0 2 2 2 2 0 0 2 0 3 7 0 0 2 0 2 0 6 0 0 0 2 0 2\n",
      " 3 7 0 6 6 2 0 0 3 7 7 0 0 0 0 2 0 6 2 0 7 2 3 6 3 0 3 0 0 6 0 2 0 7 0 7 3\n",
      " 0 2 0 3 7 3 0 7 2 3 0 0 6 0 0 2 7 6 7 0 3 3 2 6 6 0 3 6 3 6 2 0 2 0 0 3 0\n",
      " 1 0 3 5 0 0 0 3 6 0 6 3 2 2 2 6 0 7 2 3 6 0 0 2 2 2 7 3 0 0 3 0 3 0 7 6 7\n",
      " 0 6 2 0 0 6 0 6 2 7 2 2 6 0 0 2 0 3 0 6 0 7 0 2 0 6 0 0 3 7 0 0 0 6 3 0 0\n",
      " 3 3 0 0 2 6 6 2 7 7 3 0 3 0 0 0 3 6 2 0 0 0 7 0 7 3 3 0 3 2 0 6 0 0 3 0 2\n",
      " 0 1 6 3 2 7 0 0 2 6 4 0 0 0 7 6 0 0 0 3 2 0 3 3 0 7 3 0 0 0 0 2 2 3 0 2 0\n",
      " 0 2 7 0 0 0 7 2 0 0 0 0 0 0 3 3 7 3 0 3 0 1 0 2 6 1 3 0 2 0 2 0 0 0 0 3 6\n",
      " 0 6 3 3 2 0 0 3 0 0 3 0 0 0 0 2 0 0 0 0 2 0 3 7 0 7 0 3 3 7 3 2 0 0 0 3 6\n",
      " 0 7 2 0 0 0 3 6 0 0 0 5 6 2 2 0 1 3 2 0 0 5 3 0 3 0 0 0 0 3 3 0 3 0 3 3 1\n",
      " 6 2 0 0 0 3 0 2 7 0 6 0 3 0 3 0 2 0 3 0 0 0 6 1 0 3 3 2 2 0 2 6 0 0 0 3 3\n",
      " 6 3 2 2 0 7 6 3 0 2 1 3 3 6 6 0 0 6 2 0 3 1 0 0 5 6 3 0 6 2 0 1 7 0 2 6 7\n",
      " 1 0 3 0 0 3 0 0 2 0 0 0 2 0 7 0 0 7 7 3 6 6 0 0 5 7 0 3 3 0 2 2 7 2 0 0 3\n",
      " 0 3 2 0 0 6 0 2 3 7 3 0 0 0 0 0 2 0 2 0 3 6 0 2 3 0 1 6 6 2 0 0 0 3 2 0 2\n",
      " 2 2 0 0 6 3 6 0 2 0 0 0 0 0 0 6 2 0 0 0 0 2 3 0 0 0 7 7 6 6 6 0 1 0 5 0 1\n",
      " 0 2 3 0 3 3 0 0 1 3 7 0 6 3 2 3 2 2 2 1 0 7 2 5 6 7 0 1 2 6 0 6 6 3 0 6 6\n",
      " 2 2 0 2 0 1 0 6 6 0 6 0 6 0 0 0 0 2 3 3 0 3 2 2 2 2 0 1 7 0 0 0 2 5 7 2 3\n",
      " 6 2 0 0 0 2 2 2 2 1 2 0 3 2 2 1 3 2 0 0 0 0 3 1 3 6 2 0 0 7 6 7 6 0 6 6 0\n",
      " 2 6 0 2 0 3 6 3 2 0 3 0 0 0 0 0 7 0 0 3 0 0 0 3 3 3 1 3 6 3 0 3 0 0 3 0 6\n",
      " 3 0]\n"
     ]
    }
   ],
   "source": [
    "svc = svm.SVC(kernel='rbf',C=10,gamma=0.001,max_iter=10000)\n",
    "svc.fit(X_Train_Coin,Y_Train_Coin)\n",
    "y_pred = svc.predict(X_public_test_Coin)\n",
    "print(y_pred)"
   ]
  },
  {
   "cell_type": "code",
   "execution_count": 21,
   "id": "ffcef6b3",
   "metadata": {},
   "outputs": [],
   "source": [
    "import csv\n",
    "fields = [\"Id\", \"Expected\"] \n",
    "filename = \"results.csv\"\n",
    "\n",
    "# writing to csv file \n",
    "with open(filename, 'w', newline=\"\") as csvfile: \n",
    "    # creating a csv writer object \n",
    "    csvwriter = csv.writer(csvfile, delimiter=',') \n",
    "\n",
    "    # writing the fields \n",
    "    csvwriter.writerow(fields) \n",
    "\n",
    "    # writing the data rows \n",
    "    for i in range(len(y_pred)):\n",
    "        csvwriter.writerow([img_test_labels[i], y_pred[i]])"
   ]
  }
 ],
 "metadata": {
  "kernelspec": {
   "display_name": "Python [conda env:py38ml] *",
   "language": "python",
   "name": "conda-env-py38ml-py"
  },
  "language_info": {
   "codemirror_mode": {
    "name": "ipython",
    "version": 3
   },
   "file_extension": ".py",
   "mimetype": "text/x-python",
   "name": "python",
   "nbconvert_exporter": "python",
   "pygments_lexer": "ipython3",
   "version": "3.8.10"
  }
 },
 "nbformat": 4,
 "nbformat_minor": 5
}
